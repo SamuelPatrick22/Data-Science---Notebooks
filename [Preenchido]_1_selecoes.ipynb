{
  "cells": [
    {
      "cell_type": "markdown",
      "metadata": {
        "id": "3_b05loENMng"
      },
      "source": [
        "# Relatório de Análise I - Base de dados e infos gerais"
      ]
    },
    {
      "cell_type": "markdown",
      "metadata": {
        "id": "it-1NyY1NMnp"
      },
      "source": [
        "## Importando a Base de Dados"
      ]
    },
    {
      "cell_type": "code",
      "source": [
        "from google.colab import drive\n",
        "drive.mount('/content/drive')\n",
        "\n",
        "import pandas as pd"
      ],
      "metadata": {
        "id": "2-ry_jHJv2Pf",
        "colab": {
          "base_uri": "https://localhost:8080/"
        },
        "outputId": "22a58562-e4de-445c-9589-184ef857db01"
      },
      "execution_count": null,
      "outputs": [
        {
          "output_type": "stream",
          "name": "stdout",
          "text": [
            "Mounted at /content/drive\n"
          ]
        }
      ]
    },
    {
      "cell_type": "code",
      "source": [
        "dados = pd.read_csv('/content/drive/MyDrive/DS/aluguel.csv', sep=';')\n",
        "dados"
      ],
      "metadata": {
        "id": "b83yTPIfv2Ms"
      },
      "execution_count": null,
      "outputs": []
    },
    {
      "cell_type": "markdown",
      "source": [
        "Obs: Upando o arquivo aluguel.csv diretamente do Collab ocorre uma problema de carregamento parcial dos dados, cerca de +10k de linhas somem.\n",
        "Carregando o arquivo via montagem de drive foi uma alternativa para conseguir o DataFrame completo."
      ],
      "metadata": {
        "id": "OPYUHE3e8u__"
      }
    },
    {
      "cell_type": "code",
      "source": [
        "dados.head()"
      ],
      "metadata": {
        "id": "tDgio9Khv2KD"
      },
      "execution_count": null,
      "outputs": []
    },
    {
      "cell_type": "code",
      "source": [
        "type(dados)"
      ],
      "metadata": {
        "id": "tx9Wqp4yv2Hc"
      },
      "execution_count": null,
      "outputs": []
    },
    {
      "cell_type": "code",
      "source": [
        "dados.info()"
      ],
      "metadata": {
        "id": "7d5n-k9R354_"
      },
      "execution_count": null,
      "outputs": []
    },
    {
      "cell_type": "code",
      "source": [
        "dados.head(10)"
      ],
      "metadata": {
        "id": "98q3G7DNv2Ez"
      },
      "execution_count": null,
      "outputs": []
    },
    {
      "cell_type": "code",
      "source": [
        "len(dados['Tipo'].unique())"
      ],
      "metadata": {
        "id": "b3phfzD1v16_"
      },
      "execution_count": null,
      "outputs": []
    },
    {
      "cell_type": "code",
      "source": [
        "dados['Tipo'].value_counts(normalize=True)*100"
      ],
      "metadata": {
        "id": "AZBioBzbv1qf"
      },
      "execution_count": null,
      "outputs": []
    },
    {
      "cell_type": "code",
      "source": [
        "dados['Tipo'].value_counts(normalize=True).plot.bar()"
      ],
      "metadata": {
        "id": "Z_l81g4k-0g-"
      },
      "execution_count": null,
      "outputs": []
    },
    {
      "cell_type": "markdown",
      "metadata": {
        "id": "MqWV_J8aNMn4"
      },
      "source": [
        "## Informações Gerais sobre a Base de Dados"
      ]
    },
    {
      "cell_type": "code",
      "source": [
        "dados.dtypes"
      ],
      "metadata": {
        "id": "20StnW48wC8V"
      },
      "execution_count": null,
      "outputs": []
    },
    {
      "cell_type": "code",
      "source": [
        "tipos_de_dados = pd.DataFrame(dados.dtypes, columns=['Tipos de Dados'])\n",
        "tipos_de_dados"
      ],
      "metadata": {
        "id": "1To9I1KwwC5h"
      },
      "execution_count": null,
      "outputs": []
    },
    {
      "cell_type": "code",
      "source": [
        "tipos_de_dados.columns.name = 'Variáveis'\n",
        "tipos_de_dados"
      ],
      "metadata": {
        "id": "eqdHKpjqwC3H"
      },
      "execution_count": null,
      "outputs": []
    },
    {
      "cell_type": "code",
      "source": [
        "dados.shape"
      ],
      "metadata": {
        "id": "lF-c_Uw9wC0W",
        "colab": {
          "base_uri": "https://localhost:8080/"
        },
        "outputId": "61385be6-b5a1-42cf-e439-19c72e609ca2"
      },
      "execution_count": null,
      "outputs": [
        {
          "output_type": "execute_result",
          "data": {
            "text/plain": [
              "(32960, 9)"
            ]
          },
          "metadata": {},
          "execution_count": 33
        }
      ]
    },
    {
      "cell_type": "code",
      "source": [
        "dados.shape[0]"
      ],
      "metadata": {
        "id": "8fxT_3U1wCyA"
      },
      "execution_count": null,
      "outputs": []
    },
    {
      "cell_type": "code",
      "source": [
        "dados.shape[1]"
      ],
      "metadata": {
        "id": "4SAVRAhfwCms"
      },
      "execution_count": null,
      "outputs": []
    },
    {
      "cell_type": "code",
      "source": [
        "print('A base de dados apresenta {} registros básicos e {} variáveis'.format(dados.shape[0],dados.shape[1]))"
      ],
      "metadata": {
        "id": "tHSSBSpcGg9Y"
      },
      "execution_count": null,
      "outputs": []
    },
    {
      "cell_type": "code",
      "source": [
        "print(f'A base de dados apresenta {dados.shape[0]} e {dados.shape[1]} variáveis')"
      ],
      "metadata": {
        "id": "Fy7kYQpqHb0w"
      },
      "execution_count": null,
      "outputs": []
    },
    {
      "cell_type": "markdown",
      "metadata": {
        "id": "szxYSNTBT1Zr"
      },
      "source": [
        "# Relatório de Análise II - Análise básica e organização"
      ]
    },
    {
      "cell_type": "markdown",
      "metadata": {
        "id": "QlKJIyX3T1Zy"
      },
      "source": [
        "## Tipos de Imóveis"
      ]
    },
    {
      "cell_type": "code",
      "source": [
        "import pandas as pd"
      ],
      "metadata": {
        "id": "xNuG0yNCwI_x"
      },
      "execution_count": null,
      "outputs": []
    },
    {
      "cell_type": "code",
      "source": [
        "dados = pd.read_csv('/content/drive/MyDrive/DS/aluguel.csv',sep=';')"
      ],
      "metadata": {
        "id": "3mm58zkHwI9N"
      },
      "execution_count": null,
      "outputs": []
    },
    {
      "cell_type": "code",
      "source": [
        "dados.head()"
      ],
      "metadata": {
        "id": "_OVNe761wI6z"
      },
      "execution_count": null,
      "outputs": []
    },
    {
      "cell_type": "code",
      "source": [
        "dados['Tipo'].unique()"
      ],
      "metadata": {
        "id": "Dw09QnH2wI4M"
      },
      "execution_count": null,
      "outputs": []
    },
    {
      "cell_type": "code",
      "source": [
        "tipo_de_imovel = dados['Tipo']\n",
        "tipo_de_imovel.unique()"
      ],
      "metadata": {
        "id": "Omz6byqtwI1f"
      },
      "execution_count": null,
      "outputs": []
    },
    {
      "cell_type": "code",
      "source": [
        "tipo_de_imovel.drop_duplicates()\n",
        "tipo_de_imovel.drop_duplicates(inplace=True)\n"
      ],
      "metadata": {
        "id": "ZG2EkwfywIyn"
      },
      "execution_count": null,
      "outputs": []
    },
    {
      "cell_type": "code",
      "source": [
        "tipo_de_imovel"
      ],
      "metadata": {
        "id": "cMCPMovuR9gy"
      },
      "execution_count": null,
      "outputs": []
    },
    {
      "cell_type": "markdown",
      "metadata": {
        "id": "EdcSfaKbT1aC"
      },
      "source": [
        "## Organizando a Visualização"
      ]
    },
    {
      "cell_type": "code",
      "source": [
        "tipo_de_imovel = pd.DataFrame(tipo_de_imovel)\n",
        "tipo_de_imovel"
      ],
      "metadata": {
        "id": "-IhoJ2J3UNwL"
      },
      "execution_count": null,
      "outputs": []
    },
    {
      "cell_type": "code",
      "source": [
        "tipo_de_imovel.reset_index(drop=True, inplace=True)"
      ],
      "metadata": {
        "id": "6Jhn8iW0UjQp"
      },
      "execution_count": null,
      "outputs": []
    },
    {
      "cell_type": "code",
      "source": [
        "tipo_de_imovel"
      ],
      "metadata": {
        "id": "K14q9QupVmMh"
      },
      "execution_count": null,
      "outputs": []
    },
    {
      "cell_type": "code",
      "source": [
        "tipo_de_imovel.columns.name='Id'\n",
        "tipo_de_imovel"
      ],
      "metadata": {
        "id": "BjgP6vQVVrHi"
      },
      "execution_count": null,
      "outputs": []
    },
    {
      "cell_type": "markdown",
      "source": [],
      "metadata": {
        "id": "dgOb5oUClf4S"
      }
    },
    {
      "cell_type": "markdown",
      "source": [],
      "metadata": {
        "id": "wdiACPYwlyAw"
      }
    },
    {
      "cell_type": "markdown",
      "source": [
        "#Relatório de Análise III - Seleção e exportação"
      ],
      "metadata": {
        "id": "2RjyqtJsl6vR"
      }
    },
    {
      "cell_type": "markdown",
      "source": [
        "# Imóveis Residenciais"
      ],
      "metadata": {
        "id": "eP3bnC8pmaca"
      }
    },
    {
      "cell_type": "code",
      "source": [
        "import pandas as pd"
      ],
      "metadata": {
        "id": "2pkT-bL9mq_m"
      },
      "execution_count": null,
      "outputs": []
    },
    {
      "cell_type": "code",
      "source": [
        "dados = pd.read_csv('/content/drive/MyDrive/DS/aluguel.csv', sep=';')"
      ],
      "metadata": {
        "id": "1z18EyxKm-Yz"
      },
      "execution_count": null,
      "outputs": []
    },
    {
      "cell_type": "code",
      "source": [
        "dados.head(10)"
      ],
      "metadata": {
        "id": "YSrphr3gm-Vz"
      },
      "execution_count": null,
      "outputs": []
    },
    {
      "cell_type": "code",
      "source": [
        "list(dados['Tipo'].drop_duplicates())"
      ],
      "metadata": {
        "id": "r5r57NFCm-TM"
      },
      "execution_count": null,
      "outputs": []
    },
    {
      "cell_type": "code",
      "source": [
        "residencial = ['Quitinete', \n",
        "               'Casa',\n",
        "               'Apartamento',\n",
        "               'Casa de Condomínio',\n",
        "               'Casa de Vila']\n",
        "               "
      ],
      "metadata": {
        "id": "misV00Z-m-G_"
      },
      "execution_count": null,
      "outputs": []
    },
    {
      "cell_type": "code",
      "source": [
        "sel = dados['Tipo'].isin(residencial)"
      ],
      "metadata": {
        "id": "JcQKameUo1It"
      },
      "execution_count": null,
      "outputs": []
    },
    {
      "cell_type": "code",
      "source": [
        "dados_residencial = dados[sel]\n",
        "dados_residencial"
      ],
      "metadata": {
        "id": "NsXNM8K3phHS"
      },
      "execution_count": null,
      "outputs": []
    },
    {
      "cell_type": "code",
      "source": [
        "dados_residencial['Tipo'].unique()"
      ],
      "metadata": {
        "id": "aRCqxzd2psRT"
      },
      "execution_count": null,
      "outputs": []
    },
    {
      "cell_type": "code",
      "source": [
        "dados_residencial.reset_index(drop=True, inplace=True)\n",
        "dados_residencial"
      ],
      "metadata": {
        "id": "DX4Rf4AxpsJG"
      },
      "execution_count": null,
      "outputs": []
    },
    {
      "cell_type": "markdown",
      "source": [
        "#Exportando a base de dados"
      ],
      "metadata": {
        "id": "i9b4srQHrnxG"
      }
    },
    {
      "cell_type": "code",
      "source": [
        "dados_residencial.to_csv('aluguel_residencial.csv', sep=';', index=False)"
      ],
      "metadata": {
        "id": "KdxhTwOYrsgD"
      },
      "execution_count": null,
      "outputs": []
    },
    {
      "cell_type": "code",
      "source": [
        "pd.read_csv('aluguel_residencial.csv',sep=';')"
      ],
      "metadata": {
        "id": "ISQjCD_LsV_w"
      },
      "execution_count": null,
      "outputs": []
    },
    {
      "cell_type": "code",
      "source": [],
      "metadata": {
        "id": "a0LuOug6s6_Q"
      },
      "execution_count": null,
      "outputs": []
    },
    {
      "cell_type": "markdown",
      "metadata": {
        "id": "ndDtBTKIhjve"
      },
      "source": [
        "# Relatório de Análise IV - Seleções e frequências (exercícios)"
      ]
    },
    {
      "cell_type": "markdown",
      "metadata": {
        "id": "3kTgd2IMZcsu"
      },
      "source": [
        "## Seleções e Frequências"
      ]
    },
    {
      "cell_type": "code",
      "source": [
        "import pandas as pd"
      ],
      "metadata": {
        "id": "x4HwW-AWwe-z"
      },
      "execution_count": null,
      "outputs": []
    },
    {
      "cell_type": "code",
      "source": [
        "dados = pd.read_csv('aluguel_residencial.csv', sep=';')"
      ],
      "metadata": {
        "id": "wg_L_rOdwe79"
      },
      "execution_count": null,
      "outputs": []
    },
    {
      "cell_type": "code",
      "source": [
        "dados.head(15)"
      ],
      "metadata": {
        "id": "WLCOp5U4weuT"
      },
      "execution_count": null,
      "outputs": []
    },
    {
      "cell_type": "code",
      "source": [
        "#Selecione somente os imóveis classificados com o tipo 'Apartamento'\n",
        "\n",
        "s1 = dados['Tipo'] == 'Apartamento'\n",
        "dados[s1]"
      ],
      "metadata": {
        "id": "5iU8p61nwerg"
      },
      "execution_count": null,
      "outputs": []
    },
    {
      "cell_type": "code",
      "source": [
        "#Selecione os imóveis classificados com tipos 'Casa', 'Casa de Condomínio' e 'Casa de Vila'\n",
        "\n",
        "dados['Tipo'].unique()"
      ],
      "metadata": {
        "id": "svd-0WLyt-e_"
      },
      "execution_count": null,
      "outputs": []
    },
    {
      "cell_type": "code",
      "source": [
        "s2 = (dados['Tipo']!='Quitinete') & (dados['Tipo']!='Apartamento')\n",
        "dados[s2]"
      ],
      "metadata": {
        "id": "JKaajeOkwXtr"
      },
      "execution_count": null,
      "outputs": []
    },
    {
      "cell_type": "code",
      "source": [
        "#Selecione os imóveis com áreas entre 60 100 metros quadrados, incluindo os limites 60<= Area <= 100"
      ],
      "metadata": {
        "id": "3_fFAfQ3uJ_6"
      },
      "execution_count": null,
      "outputs": []
    },
    {
      "cell_type": "code",
      "source": [
        "dados.head(3)"
      ],
      "metadata": {
        "id": "lDRYPsv7uff3"
      },
      "execution_count": null,
      "outputs": []
    },
    {
      "cell_type": "code",
      "source": [
        "s3 = (dados['Area']>=60) & (dados['Area']<=100)\n",
        "dados[s3]"
      ],
      "metadata": {
        "id": "zwW99QfKzQza"
      },
      "execution_count": null,
      "outputs": []
    },
    {
      "cell_type": "code",
      "source": [
        "# Selecione os imóveis que tenham pelo menos 4 quartos e aluguel menor que R$ 2.000,00\n",
        "\n",
        "s4 = (dados['Quartos']>=4) & (dados['Valor']<2000)\n",
        "dados[s4]"
      ],
      "metadata": {
        "id": "BzvxC3qp0AMa"
      },
      "execution_count": null,
      "outputs": []
    },
    {
      "cell_type": "code",
      "source": [
        "#Imprima a frequencia das selecoes anteriores\n",
        "\n",
        "print(\"Nº de imóveis classificados com tipo 'Apartamento' -> {}\".format(len(dados[s1])))\n",
        "\n"
      ],
      "metadata": {
        "colab": {
          "base_uri": "https://localhost:8080/"
        },
        "id": "rznme8SQ0w8C",
        "outputId": "a75da935-30c9-4fc3-a44d-63a58783c5df"
      },
      "execution_count": null,
      "outputs": [
        {
          "output_type": "stream",
          "name": "stdout",
          "text": [
            "Nº de imóveis classificados com tipo 'Apartamento' -> 19532\n"
          ]
        }
      ]
    },
    {
      "cell_type": "code",
      "source": [
        "print(\"Nº de imóveis classificados com tipos 'Casa', 'Casa de Condomínio' e 'Casa de Vila' -> {}\".format(len(dados[s2])))\n"
      ],
      "metadata": {
        "colab": {
          "base_uri": "https://localhost:8080/"
        },
        "id": "Dzl-wjZ10-fV",
        "outputId": "73980605-ee42-4fe9-ae57-8bb594c4d6fb"
      },
      "execution_count": null,
      "outputs": [
        {
          "output_type": "stream",
          "name": "stdout",
          "text": [
            "Nº de imóveis classificados com tipos 'Casa', 'Casa de Condomínio' e 'Casa de Vila' -> 2212\n"
          ]
        }
      ]
    },
    {
      "cell_type": "code",
      "source": [
        "print(\"Nº de imóveis com área entre 60 e 100 metros quadrados, incluindo os limites -> {}\".format(len(dados[s3])))\n"
      ],
      "metadata": {
        "colab": {
          "base_uri": "https://localhost:8080/"
        },
        "id": "OwlUCMHV0_cr",
        "outputId": "064fc850-9ecd-45a0-9090-0b814a37b3b8"
      },
      "execution_count": null,
      "outputs": [
        {
          "output_type": "stream",
          "name": "stdout",
          "text": [
            "Nº de imóveis com área entre 60 e 100 metros quadrados, incluindo os limites -> 8719\n"
          ]
        }
      ]
    },
    {
      "cell_type": "code",
      "source": [
        "print(\"Nº de imóveis que tenham pelo menos 4 quartos e aluguel menor que R$ 2.000,00 -> {}\".format(len(dados[s4])))"
      ],
      "metadata": {
        "colab": {
          "base_uri": "https://localhost:8080/"
        },
        "id": "9GEqV6KV0_Z3",
        "outputId": "67102cec-48c7-411b-b6ee-e000a60a169c"
      },
      "execution_count": null,
      "outputs": [
        {
          "output_type": "stream",
          "name": "stdout",
          "text": [
            "Nº de imóveis que tenham pelo menos 4 quartos e aluguel menor que R$ 2.000,00 -> 36\n"
          ]
        }
      ]
    }
  ],
  "metadata": {
    "kernelspec": {
      "display_name": "Python 3",
      "language": "python",
      "name": "python3"
    },
    "language_info": {
      "codemirror_mode": {
        "name": "ipython",
        "version": 3
      },
      "file_extension": ".py",
      "mimetype": "text/x-python",
      "name": "python",
      "nbconvert_exporter": "python",
      "pygments_lexer": "ipython3",
      "version": "3.6.4"
    },
    "colab": {
      "provenance": [],
      "collapsed_sections": [
        "i9b4srQHrnxG"
      ]
    }
  },
  "nbformat": 4,
  "nbformat_minor": 0
}