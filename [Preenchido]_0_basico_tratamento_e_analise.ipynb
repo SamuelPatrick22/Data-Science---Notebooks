{
  "cells": [
    {
      "cell_type": "markdown",
      "metadata": {
        "id": "8DB4pgvh7zAk"
      },
      "source": [
        "## **Carregamento de dados e obtenção de informações básicas**"
      ]
    },
    {
      "cell_type": "code",
      "execution_count": null,
      "metadata": {
        "id": "NcH8ThbjijTs"
      },
      "outputs": [],
      "source": [
        "import pandas as pd"
      ]
    },
    {
      "cell_type": "code",
      "execution_count": null,
      "metadata": {
        "id": "4DTHDea6xnS-"
      },
      "outputs": [],
      "source": [
        "dados1 = pd.read_csv('dados_Planilha.csv', sep=',') #Função de leitura do Dataframe\n",
        "dados2 = pd.read_csv('db.csv', sep=';')"
      ]
    },
    {
      "cell_type": "code",
      "execution_count": null,
      "metadata": {
        "id": "S6lavEEaySiN"
      },
      "outputs": [],
      "source": [
        "display(dados2) #Função alternativa do print"
      ]
    },
    {
      "cell_type": "code",
      "execution_count": null,
      "metadata": {
        "id": "o4g26_J3n1nO"
      },
      "outputs": [],
      "source": [
        "type(dados2) #FUnção que mostra o tipo da variável"
      ]
    },
    {
      "cell_type": "code",
      "execution_count": null,
      "metadata": {
        "id": "0KiY0tfWyxMn"
      },
      "outputs": [],
      "source": [
        "dados2.dtypes #Atributo que mostra os tipos de dados do objeto 'dados'"
      ]
    },
    {
      "cell_type": "code",
      "execution_count": null,
      "metadata": {
        "id": "FcR9aUS6zBwg"
      },
      "outputs": [],
      "source": [
        "dados2.info() #Função que mostra os tipos, valores nulos e não-nulos"
      ]
    },
    {
      "cell_type": "code",
      "execution_count": null,
      "metadata": {
        "id": "f_-DvDdozSWI"
      },
      "outputs": [],
      "source": [
        "dados2.head() #Função que mostra os 5 primeiros elementos da tabela\n",
        "#dados.head(20) #O parâmetro pode ser alterado conforme o usuário preferir"
      ]
    },
    {
      "cell_type": "code",
      "execution_count": null,
      "metadata": {
        "id": "iivxpkuSz0ts"
      },
      "outputs": [],
      "source": [
        "dados2.tail() #Função que mostra os 5 últimos elementos da tabela\n",
        "#dados.tail(15) #Mostra os 15 últimos elementos da tabela"
      ]
    },
    {
      "cell_type": "code",
      "execution_count": null,
      "metadata": {
        "id": "QWgl8KGR12jJ"
      },
      "outputs": [],
      "source": [
        "dados2.describe() #Função que apresenta análise estatística dos elementos numéricos "
      ]
    },
    {
      "cell_type": "code",
      "execution_count": null,
      "metadata": {
        "id": "DG_7URpC-vOG"
      },
      "outputs": [],
      "source": [
        "#dados1.Idade #Seleciona um atributo de maneira individual\n",
        "dados2.Ano"
      ]
    },
    {
      "cell_type": "code",
      "execution_count": null,
      "metadata": {
        "id": "gbhwWBCM_Dd3"
      },
      "outputs": [],
      "source": [
        "#dados1['Idade'].value_counts() #Acessa um atributo e mostra a frequência de ocorrência/numérica de cada ano\n",
        "dados2['Ano'].value_counts()"
      ]
    },
    {
      "cell_type": "markdown",
      "source": [
        "Obs: Há um dado discrepante em 'voice116', onde o atributo Idade possui o valor 334.\n",
        "Dentre os valores tabelados, é o único que possui incoerência com o padrão"
      ],
      "metadata": {
        "id": "fv-lqnJ7NGwk"
      }
    },
    {
      "cell_type": "markdown",
      "metadata": {
        "id": "0yIt7FVm-_qq"
      },
      "source": [
        "**Utilizar uma coluna como índice**"
      ]
    },
    {
      "cell_type": "code",
      "execution_count": null,
      "metadata": {
        "id": "5jZSvbMhtJkw"
      },
      "outputs": [],
      "source": [
        "len(dados2['Nome'].unique()) #len() retorna quantidade e elementos que não se repetem\n"
      ]
    },
    {
      "cell_type": "markdown",
      "metadata": {
        "id": "bYaK855fuNn2"
      },
      "source": [
        "O parâmetro index_col= é utilizado para definir o index da tabela.\n",
        "No caso abaixo, o index foi definido na coluna 0 'Nome'."
      ]
    },
    {
      "cell_type": "code",
      "execution_count": null,
      "metadata": {
        "id": "pH30lwYDthVa"
      },
      "outputs": [],
      "source": [
        "dados1 = pd.read_csv('dados_Planilha.csv', sep=',', index_col=0)\n",
        "dados2 = pd.read_csv('db.csv', sep=';', index_col=0) \n",
        "dados1"
      ]
    },
    {
      "cell_type": "markdown",
      "metadata": {
        "id": "wlYxPmpB8Fg_"
      },
      "source": [
        "## **Fazendo seleções de dados**"
      ]
    },
    {
      "cell_type": "code",
      "execution_count": null,
      "metadata": {
        "id": "YSd3HmvS8JIf"
      },
      "outputs": [],
      "source": [
        "dados2.columns #Mostra as colunas"
      ]
    },
    {
      "cell_type": "markdown",
      "metadata": {
        "id": "A1ZfpYv3v-4F"
      },
      "source": [
        "A mudança do index numérico para o index 'Nome' facilita a compreensão dos dados\n",
        "já que cada index é um nome de um automóvel.\n",
        "Assim, a correlação do nome do carro com as demais colunas fica mais clara."
      ]
    },
    {
      "cell_type": "code",
      "execution_count": null,
      "metadata": {
        "id": "EtjUXY_28r5j"
      },
      "outputs": [],
      "source": [
        "#dados1['Quantidade/Dia'] #Série\n",
        "dados2['Motor']"
      ]
    },
    {
      "cell_type": "markdown",
      "metadata": {
        "id": "JUwKOiKJwjUG"
      },
      "source": [
        "Obs: Séries são dados que possuem apenas uma única dimensão. (Vetor unidimensional)\n",
        "Enquanto que Dataframe possuem várias."
      ]
    },
    {
      "cell_type": "code",
      "execution_count": null,
      "metadata": {
        "id": "qgwlEd_ZMNtb",
        "colab": {
          "base_uri": "https://localhost:8080/"
        },
        "outputId": "e06aac29-e8b1-4db3-ac77-577e1d2476c1"
      },
      "outputs": [
        {
          "output_type": "execute_result",
          "data": {
            "text/plain": [
              "pandas.core.series.Series"
            ]
          },
          "metadata": {},
          "execution_count": 21
        }
      ],
      "source": [
        "#type(dados1['Diagnostico'])\n",
        "type(dados2['Motor'])"
      ]
    },
    {
      "cell_type": "code",
      "execution_count": null,
      "metadata": {
        "id": "zRsSIeZ9OXVv",
        "colab": {
          "base_uri": "https://localhost:8080/",
          "height": 490
        },
        "outputId": "a5aa45c0-c36a-4860-e9ae-d90656afcb18"
      },
      "outputs": [
        {
          "output_type": "execute_result",
          "data": {
            "text/plain": [
              "                            Motor   Ano  Quilometragem  Zero_km  \\\n",
              "Nome                                                              \n",
              "Jetta Variant     Motor 4.0 Turbo  2003        44410.0    False   \n",
              "Passat               Motor Diesel  1991         5712.0    False   \n",
              "Crossfox          Motor Diesel V8  1990        37123.0    False   \n",
              "DS5               Motor 2.4 Turbo  2019            NaN     True   \n",
              "Aston Martin DB4  Motor 2.4 Turbo  2006        25757.0    False   \n",
              "\n",
              "                                                         Acessórios      Valor  \n",
              "Nome                                                                            \n",
              "Jetta Variant     ['Rodas de liga', 'Travas elétricas', 'Piloto ...   88078.64  \n",
              "Passat            ['Central multimídia', 'Teto panorâmico', 'Fre...  106161.94  \n",
              "Crossfox          ['Piloto automático', 'Controle de estabilidad...   72832.16  \n",
              "DS5               ['Travas elétricas', '4 X 4', 'Vidros elétrico...  124549.07  \n",
              "Aston Martin DB4  ['Rodas de liga', '4 X 4', 'Central multimídia...   92612.10  "
            ],
            "text/html": [
              "\n",
              "  <div id=\"df-0bc170f8-0fa4-4f6c-977f-4e6e8cf2626c\">\n",
              "    <div class=\"colab-df-container\">\n",
              "      <div>\n",
              "<style scoped>\n",
              "    .dataframe tbody tr th:only-of-type {\n",
              "        vertical-align: middle;\n",
              "    }\n",
              "\n",
              "    .dataframe tbody tr th {\n",
              "        vertical-align: top;\n",
              "    }\n",
              "\n",
              "    .dataframe thead th {\n",
              "        text-align: right;\n",
              "    }\n",
              "</style>\n",
              "<table border=\"1\" class=\"dataframe\">\n",
              "  <thead>\n",
              "    <tr style=\"text-align: right;\">\n",
              "      <th></th>\n",
              "      <th>Motor</th>\n",
              "      <th>Ano</th>\n",
              "      <th>Quilometragem</th>\n",
              "      <th>Zero_km</th>\n",
              "      <th>Acessórios</th>\n",
              "      <th>Valor</th>\n",
              "    </tr>\n",
              "    <tr>\n",
              "      <th>Nome</th>\n",
              "      <th></th>\n",
              "      <th></th>\n",
              "      <th></th>\n",
              "      <th></th>\n",
              "      <th></th>\n",
              "      <th></th>\n",
              "    </tr>\n",
              "  </thead>\n",
              "  <tbody>\n",
              "    <tr>\n",
              "      <th>Jetta Variant</th>\n",
              "      <td>Motor 4.0 Turbo</td>\n",
              "      <td>2003</td>\n",
              "      <td>44410.0</td>\n",
              "      <td>False</td>\n",
              "      <td>['Rodas de liga', 'Travas elétricas', 'Piloto ...</td>\n",
              "      <td>88078.64</td>\n",
              "    </tr>\n",
              "    <tr>\n",
              "      <th>Passat</th>\n",
              "      <td>Motor Diesel</td>\n",
              "      <td>1991</td>\n",
              "      <td>5712.0</td>\n",
              "      <td>False</td>\n",
              "      <td>['Central multimídia', 'Teto panorâmico', 'Fre...</td>\n",
              "      <td>106161.94</td>\n",
              "    </tr>\n",
              "    <tr>\n",
              "      <th>Crossfox</th>\n",
              "      <td>Motor Diesel V8</td>\n",
              "      <td>1990</td>\n",
              "      <td>37123.0</td>\n",
              "      <td>False</td>\n",
              "      <td>['Piloto automático', 'Controle de estabilidad...</td>\n",
              "      <td>72832.16</td>\n",
              "    </tr>\n",
              "    <tr>\n",
              "      <th>DS5</th>\n",
              "      <td>Motor 2.4 Turbo</td>\n",
              "      <td>2019</td>\n",
              "      <td>NaN</td>\n",
              "      <td>True</td>\n",
              "      <td>['Travas elétricas', '4 X 4', 'Vidros elétrico...</td>\n",
              "      <td>124549.07</td>\n",
              "    </tr>\n",
              "    <tr>\n",
              "      <th>Aston Martin DB4</th>\n",
              "      <td>Motor 2.4 Turbo</td>\n",
              "      <td>2006</td>\n",
              "      <td>25757.0</td>\n",
              "      <td>False</td>\n",
              "      <td>['Rodas de liga', '4 X 4', 'Central multimídia...</td>\n",
              "      <td>92612.10</td>\n",
              "    </tr>\n",
              "  </tbody>\n",
              "</table>\n",
              "</div>\n",
              "      <button class=\"colab-df-convert\" onclick=\"convertToInteractive('df-0bc170f8-0fa4-4f6c-977f-4e6e8cf2626c')\"\n",
              "              title=\"Convert this dataframe to an interactive table.\"\n",
              "              style=\"display:none;\">\n",
              "        \n",
              "  <svg xmlns=\"http://www.w3.org/2000/svg\" height=\"24px\"viewBox=\"0 0 24 24\"\n",
              "       width=\"24px\">\n",
              "    <path d=\"M0 0h24v24H0V0z\" fill=\"none\"/>\n",
              "    <path d=\"M18.56 5.44l.94 2.06.94-2.06 2.06-.94-2.06-.94-.94-2.06-.94 2.06-2.06.94zm-11 1L8.5 8.5l.94-2.06 2.06-.94-2.06-.94L8.5 2.5l-.94 2.06-2.06.94zm10 10l.94 2.06.94-2.06 2.06-.94-2.06-.94-.94-2.06-.94 2.06-2.06.94z\"/><path d=\"M17.41 7.96l-1.37-1.37c-.4-.4-.92-.59-1.43-.59-.52 0-1.04.2-1.43.59L10.3 9.45l-7.72 7.72c-.78.78-.78 2.05 0 2.83L4 21.41c.39.39.9.59 1.41.59.51 0 1.02-.2 1.41-.59l7.78-7.78 2.81-2.81c.8-.78.8-2.07 0-2.86zM5.41 20L4 18.59l7.72-7.72 1.47 1.35L5.41 20z\"/>\n",
              "  </svg>\n",
              "      </button>\n",
              "      \n",
              "  <style>\n",
              "    .colab-df-container {\n",
              "      display:flex;\n",
              "      flex-wrap:wrap;\n",
              "      gap: 12px;\n",
              "    }\n",
              "\n",
              "    .colab-df-convert {\n",
              "      background-color: #E8F0FE;\n",
              "      border: none;\n",
              "      border-radius: 50%;\n",
              "      cursor: pointer;\n",
              "      display: none;\n",
              "      fill: #1967D2;\n",
              "      height: 32px;\n",
              "      padding: 0 0 0 0;\n",
              "      width: 32px;\n",
              "    }\n",
              "\n",
              "    .colab-df-convert:hover {\n",
              "      background-color: #E2EBFA;\n",
              "      box-shadow: 0px 1px 2px rgba(60, 64, 67, 0.3), 0px 1px 3px 1px rgba(60, 64, 67, 0.15);\n",
              "      fill: #174EA6;\n",
              "    }\n",
              "\n",
              "    [theme=dark] .colab-df-convert {\n",
              "      background-color: #3B4455;\n",
              "      fill: #D2E3FC;\n",
              "    }\n",
              "\n",
              "    [theme=dark] .colab-df-convert:hover {\n",
              "      background-color: #434B5C;\n",
              "      box-shadow: 0px 1px 3px 1px rgba(0, 0, 0, 0.15);\n",
              "      filter: drop-shadow(0px 1px 2px rgba(0, 0, 0, 0.3));\n",
              "      fill: #FFFFFF;\n",
              "    }\n",
              "  </style>\n",
              "\n",
              "      <script>\n",
              "        const buttonEl =\n",
              "          document.querySelector('#df-0bc170f8-0fa4-4f6c-977f-4e6e8cf2626c button.colab-df-convert');\n",
              "        buttonEl.style.display =\n",
              "          google.colab.kernel.accessAllowed ? 'block' : 'none';\n",
              "\n",
              "        async function convertToInteractive(key) {\n",
              "          const element = document.querySelector('#df-0bc170f8-0fa4-4f6c-977f-4e6e8cf2626c');\n",
              "          const dataTable =\n",
              "            await google.colab.kernel.invokeFunction('convertToInteractive',\n",
              "                                                     [key], {});\n",
              "          if (!dataTable) return;\n",
              "\n",
              "          const docLinkHtml = 'Like what you see? Visit the ' +\n",
              "            '<a target=\"_blank\" href=https://colab.research.google.com/notebooks/data_table.ipynb>data table notebook</a>'\n",
              "            + ' to learn more about interactive tables.';\n",
              "          element.innerHTML = '';\n",
              "          dataTable['output_type'] = 'display_data';\n",
              "          await google.colab.output.renderOutput(dataTable, element);\n",
              "          const docLink = document.createElement('div');\n",
              "          docLink.innerHTML = docLinkHtml;\n",
              "          element.appendChild(docLink);\n",
              "        }\n",
              "      </script>\n",
              "    </div>\n",
              "  </div>\n",
              "  "
            ]
          },
          "metadata": {},
          "execution_count": 23
        }
      ],
      "source": [
        "dados2.head()"
      ]
    },
    {
      "cell_type": "code",
      "execution_count": null,
      "metadata": {
        "id": "xawrMQq5OfES"
      },
      "outputs": [],
      "source": [
        "#dados1[['Genero','Fuma','Quantidade/Dia']] #[['item1','item2',...,'itemx']] Seleção de dados por lista\n",
        "dados2[['Ano','Valor' ]]"
      ]
    },
    {
      "cell_type": "markdown",
      "metadata": {
        "id": "156SLv86y6ab"
      },
      "source": [
        "Obs: Uma lista é um vetor capaz de armazenar vários vetores.\n",
        "\n",
        "A lista acima seleciona as séries que foram definidas pelo usuário"
      ]
    },
    {
      "cell_type": "code",
      "execution_count": null,
      "metadata": {
        "id": "vROhwO3M8xZS"
      },
      "outputs": [],
      "source": [
        "#dados1[['Diagnostico']] #Macete pra visualizar uma série como Dataframe\n",
        "dados2[['Ano']]"
      ]
    },
    {
      "cell_type": "markdown",
      "metadata": {
        "id": "dTqFeo8p2EK7"
      },
      "source": [
        "Usa-se a seleção por lista passando a série escolhida no colchete. Ex: [['série']]"
      ]
    },
    {
      "cell_type": "code",
      "execution_count": null,
      "metadata": {
        "id": "3TDA_0rX2DqS"
      },
      "outputs": [],
      "source": []
    },
    {
      "cell_type": "code",
      "execution_count": null,
      "metadata": {
        "id": "Ny05B7YF88Fr"
      },
      "outputs": [],
      "source": []
    },
    {
      "cell_type": "code",
      "execution_count": null,
      "metadata": {
        "id": "HIpDB-Sk9DSO"
      },
      "outputs": [],
      "source": []
    },
    {
      "cell_type": "markdown",
      "metadata": {
        "id": "1DOCuVGCMk4X"
      },
      "source": [
        "**Fatiamentos (slices)**"
      ]
    },
    {
      "cell_type": "code",
      "execution_count": null,
      "metadata": {
        "id": "mXdxwaGiMo41"
      },
      "outputs": [],
      "source": [
        "#dados1[0:3] #Seleciona as 3 primeiras linhas (0,1,2)\n",
        "dados2[0:3]"
      ]
    },
    {
      "cell_type": "markdown",
      "source": [
        "Obs: A função acima seleciona apenas as linhas por meio de um vetor de intervalo, mas não realiza alterações nas colunas."
      ],
      "metadata": {
        "id": "FDquDPuvWVPj"
      }
    },
    {
      "cell_type": "code",
      "source": [
        "dados1['voice001'][['Idade','Diagnostico']]"
      ],
      "metadata": {
        "id": "ZJ0gjoyxWp4p"
      },
      "execution_count": null,
      "outputs": []
    },
    {
      "cell_type": "code",
      "execution_count": null,
      "metadata": {
        "id": "7ClfcPpT3RO0"
      },
      "outputs": [],
      "source": [
        "dados2[['Jetta Variant']]"
      ]
    },
    {
      "cell_type": "markdown",
      "source": [
        "Achar uma forma de acessar atributos de um único objeto ou quantos objetos eu achar conveniente.\n",
        "O método acima acessa os atributos em lista, mas seus atributos são valores inteiros e floats."
      ],
      "metadata": {
        "id": "Wou_KEv8F4Gt"
      }
    },
    {
      "cell_type": "code",
      "execution_count": null,
      "metadata": {
        "id": "WdbinjH0M22w"
      },
      "outputs": [],
      "source": []
    },
    {
      "cell_type": "code",
      "execution_count": null,
      "metadata": {
        "id": "2llwiYk7M6DN"
      },
      "outputs": [],
      "source": []
    },
    {
      "cell_type": "code",
      "execution_count": null,
      "metadata": {
        "id": "xiLfWpZiVnmn"
      },
      "outputs": [],
      "source": []
    },
    {
      "cell_type": "markdown",
      "metadata": {
        "id": "9x8xXw9uNFc1"
      },
      "source": [
        "**.loc para seleções**\n",
        "\n",
        "Seleciona um grupo de linhas e colunas segundo os rótulos ou uma matriz booleana"
      ]
    },
    {
      "cell_type": "code",
      "source": [
        "dados2.head(1)"
      ],
      "metadata": {
        "id": "O0LlIaWtbEUb"
      },
      "execution_count": null,
      "outputs": []
    },
    {
      "cell_type": "code",
      "execution_count": null,
      "metadata": {
        "id": "iPAsChOmNIng"
      },
      "outputs": [],
      "source": [
        "#dados1.loc[['voice001','voice009','voice207']] # .loc acessa a lista/coluna pelo index\n",
        "dados2.loc[['Jetta Variant']]"
      ]
    },
    {
      "cell_type": "code",
      "execution_count": null,
      "metadata": {
        "id": "GCEdRzFgOoBl"
      },
      "outputs": [],
      "source": [
        "dados1.loc[['voice001','voice207'],['Idade','Diagnostico','Fuma']] #[['linhas'],['colunas']]\n",
        "#dados2.loc[['Jetta Variant','DS5'],['Ano','Valor']]"
      ]
    },
    {
      "cell_type": "markdown",
      "source": [
        "O método .loc é utilizado para selecionar e localizar linhas e colunas de um DataFrame, definidos pelo usuário."
      ],
      "metadata": {
        "id": "lUAVAgBJalfQ"
      }
    },
    {
      "cell_type": "code",
      "execution_count": null,
      "metadata": {
        "id": "ePzGUvXTOoWU"
      },
      "outputs": [],
      "source": [
        "#dados1.loc[:,['Idade','Diagnostico']] \n",
        "dados2.loc[:,['Ano', 'Acessórios']]\n"
      ]
    },
    {
      "cell_type": "markdown",
      "source": [
        "O delimitador vazio ':' é uma maneira de selecionar todas as linhas do DataFrame"
      ],
      "metadata": {
        "id": "khC3mopTdQF2"
      }
    },
    {
      "cell_type": "code",
      "execution_count": null,
      "metadata": {
        "id": "aeohMuEAO_7P"
      },
      "outputs": [],
      "source": []
    },
    {
      "cell_type": "markdown",
      "metadata": {
        "id": "7vMsn3LINJC7"
      },
      "source": [
        "**.iloc para seleções**\n",
        "\n",
        "Seleciona com base nos **índices numéricos**, ou seja, se baseia na posição das informações"
      ]
    },
    {
      "cell_type": "code",
      "execution_count": null,
      "metadata": {
        "id": "n6WzU4e4NLuc"
      },
      "outputs": [],
      "source": [
        "dados2.head()"
      ]
    },
    {
      "cell_type": "code",
      "execution_count": null,
      "metadata": {
        "id": "Nk9kxbbXPkiL"
      },
      "outputs": [],
      "source": [
        "dados2.iloc[0] #Acessa um dado via index numérico"
      ]
    },
    {
      "cell_type": "code",
      "execution_count": null,
      "metadata": {
        "id": "-ZflrSwXPo3S"
      },
      "outputs": [],
      "source": [
        "dados2.iloc[[0,1],[0,4,5]] #[[index linhas],[index colunas]]"
      ]
    },
    {
      "cell_type": "code",
      "execution_count": null,
      "metadata": {
        "id": "ri6U7luGUDH-"
      },
      "outputs": [],
      "source": []
    },
    {
      "cell_type": "code",
      "execution_count": null,
      "metadata": {
        "id": "gRBjfoogURKW"
      },
      "outputs": [],
      "source": []
    },
    {
      "cell_type": "code",
      "execution_count": null,
      "metadata": {
        "id": "I3p0BCxfUinD"
      },
      "outputs": [],
      "source": []
    },
    {
      "cell_type": "code",
      "execution_count": null,
      "metadata": {
        "id": "KOAYmvutU4aA"
      },
      "outputs": [],
      "source": []
    },
    {
      "cell_type": "markdown",
      "metadata": {
        "id": "chg0xtXM8Ls3"
      },
      "source": [
        "## **Queries nos dados**"
      ]
    },
    {
      "cell_type": "code",
      "source": [
        "dados2.head()"
      ],
      "metadata": {
        "id": "Z3K7Lic3f-xk"
      },
      "execution_count": null,
      "outputs": []
    },
    {
      "cell_type": "code",
      "execution_count": null,
      "metadata": {
        "id": "ub2yKHXk8Q2S"
      },
      "outputs": [],
      "source": [
        "#Ex1: Selecionar pacientes que tenham disfonia\n",
        "#Ex1: Selecionar carros com motor a diesel"
      ]
    },
    {
      "cell_type": "code",
      "execution_count": null,
      "metadata": {
        "id": "2bvF7_x8WNt-"
      },
      "outputs": [],
      "source": [
        "#selecao = dados['Fuma'] == 'sim'\n",
        "selecao = dados2['Motor'] == 'Motor Diesel'\n",
        "selecao"
      ]
    },
    {
      "cell_type": "code",
      "execution_count": null,
      "metadata": {
        "id": "EzZvfoWAWrJW"
      },
      "outputs": [],
      "source": [
        "dados2[selecao]"
      ]
    },
    {
      "cell_type": "code",
      "source": [
        "#Ex: Selecionar carros com motor a diesel e valor < 80k\n",
        "selecao = (dados2['Motor']== 'Motor Diesel') & (dados2['Valor']<80000) #Filtro\n",
        "dados2[selecao] #Aplicação do filtro\n",
        "dados2[selecao][['Ano','Valor']]"
      ],
      "metadata": {
        "id": "_BBOhO2FoQkU"
      },
      "execution_count": null,
      "outputs": []
    },
    {
      "cell_type": "markdown",
      "source": [
        "A variavel selecao é filtro dos dados.\n",
        "Se aplica duas condições concatenadas por meio do operador AND (&).\n",
        "\n",
        "Logo em seguida, o filtro é aplicado, apresentando apenas os dados que foram selecionados por ele."
      ],
      "metadata": {
        "id": "kuLdOO6KqGBD"
      }
    },
    {
      "cell_type": "code",
      "execution_count": null,
      "metadata": {
        "id": "WoTxl6OrW0dC"
      },
      "outputs": [],
      "source": [
        "#Ex2: Selecionar pacientes com disfonia e que tenham idade menor que 20"
      ]
    },
    {
      "cell_type": "code",
      "execution_count": null,
      "metadata": {
        "id": "j1DqdUK3W00a"
      },
      "outputs": [],
      "source": [
        "selecao = (dados1['Diagnostico'] == 'disfonia') & (dados1['Idade'] <=20)"
      ]
    },
    {
      "cell_type": "code",
      "execution_count": null,
      "metadata": {
        "id": "T67MaE0qW7eg"
      },
      "outputs": [],
      "source": [
        "dados1[selecao]"
      ]
    },
    {
      "cell_type": "code",
      "execution_count": null,
      "metadata": {
        "id": "f7_fVLjYW9Yp"
      },
      "outputs": [],
      "source": [
        "#Ex2: Selecionar pacientes que tenham disfonia ou que fumam"
      ]
    },
    {
      "cell_type": "code",
      "execution_count": null,
      "metadata": {
        "id": "yKeR2rTqXFp0"
      },
      "outputs": [],
      "source": [
        "selecao = (dados1['Fuma'] == 'sim')|(dados1['Diagnostico']=='disfonia')"
      ]
    },
    {
      "cell_type": "code",
      "execution_count": null,
      "metadata": {
        "id": "VzZ3GLWqXGB-"
      },
      "outputs": [],
      "source": [
        "dados1[selecao]"
      ]
    },
    {
      "cell_type": "code",
      "execution_count": null,
      "metadata": {
        "id": "LPmvuX3nYdGk"
      },
      "outputs": [],
      "source": []
    },
    {
      "cell_type": "markdown",
      "metadata": {
        "id": "UMkoyhOTYnvG"
      },
      "source": [
        "**Método query**"
      ]
    },
    {
      "cell_type": "code",
      "execution_count": null,
      "metadata": {
        "id": "AtChudpdYe7W"
      },
      "outputs": [],
      "source": [
        "#or, &, |"
      ]
    },
    {
      "cell_type": "code",
      "source": [
        "dados2.head(3)"
      ],
      "metadata": {
        "id": "Q--V2CQAou3L"
      },
      "execution_count": null,
      "outputs": []
    },
    {
      "cell_type": "code",
      "source": [
        "#dados1.query('Diagnostico == \"disfonia\" or Fuma == \"sim\"')\n",
        "dados2.query('Motor == \"Motor Diesel\" and Valor < 80000')"
      ],
      "metadata": {
        "id": "51Zmrg6_oFek"
      },
      "execution_count": null,
      "outputs": []
    },
    {
      "cell_type": "markdown",
      "source": [
        "Obs: A consulta .query() recebe uma string como parâmetro. Quando se faz uma consulta com delimitação/restrição de parâmetro é necessário diferenciar essa string da string da query. \n",
        "Seja \" \" e ' ', respectivamente ou ' ' e \" \""
      ],
      "metadata": {
        "id": "rDWecxURp02S"
      }
    },
    {
      "cell_type": "markdown",
      "metadata": {
        "id": "BsdJku458VEZ"
      },
      "source": [
        "## **Iterando nos dados**"
      ]
    },
    {
      "cell_type": "code",
      "execution_count": null,
      "metadata": {
        "id": "WATcbo6U8YMU"
      },
      "outputs": [],
      "source": [
        "l = [10,20,30,50,-54]"
      ]
    },
    {
      "cell_type": "code",
      "source": [
        "for i in l:\n",
        "  print(i)"
      ],
      "metadata": {
        "id": "IVowRGnirV3-"
      },
      "execution_count": null,
      "outputs": []
    },
    {
      "cell_type": "code",
      "source": [
        "for i in range(5):\n",
        "  print(l[i])"
      ],
      "metadata": {
        "id": "gudLa3wYrmeZ"
      },
      "execution_count": null,
      "outputs": []
    },
    {
      "cell_type": "code",
      "source": [],
      "metadata": {
        "id": "-FPHVFcMsTex"
      },
      "execution_count": null,
      "outputs": []
    },
    {
      "cell_type": "code",
      "execution_count": null,
      "metadata": {
        "id": "j65JE7wNu7pv"
      },
      "outputs": [],
      "source": [
        "# como nao fazer!\n",
        "for item in dados2:\n",
        "  print(item)"
      ]
    },
    {
      "cell_type": "markdown",
      "source": [
        "O for acima apenas printa as colunas do DataFrame, o que acaba sendo inutilizável nesse contexto."
      ],
      "metadata": {
        "id": "8fuSqeyasoru"
      }
    },
    {
      "cell_type": "code",
      "execution_count": null,
      "metadata": {
        "id": "DUBG-3JUvKNg"
      },
      "outputs": [],
      "source": [
        "#Como fazer"
      ]
    },
    {
      "cell_type": "code",
      "execution_count": null,
      "metadata": {
        "id": "Ybrjak7WvkZW"
      },
      "outputs": [],
      "source": [
        "list(dados2.iterrows())"
      ]
    },
    {
      "cell_type": "code",
      "source": [
        "for id, row in dados2.iterrows():\n",
        "  print(id, row)"
      ],
      "metadata": {
        "id": "oL5QG-4UukV2"
      },
      "execution_count": null,
      "outputs": []
    },
    {
      "cell_type": "code",
      "source": [
        "dados2.head(1)"
      ],
      "metadata": {
        "colab": {
          "base_uri": "https://localhost:8080/",
          "height": 191
        },
        "id": "b7n3vb4xzUrN",
        "outputId": "6e5aa94e-7db2-449b-983e-cd7295947bec"
      },
      "execution_count": null,
      "outputs": [
        {
          "output_type": "execute_result",
          "data": {
            "text/plain": [
              "                         Motor   Ano  Quilometragem  Zero_km  \\\n",
              "Nome                                                           \n",
              "Jetta Variant  Motor 4.0 Turbo  2003        44410.0    False   \n",
              "\n",
              "                                                      Acessórios     Valor  \n",
              "Nome                                                                        \n",
              "Jetta Variant  ['Rodas de liga', 'Travas elétricas', 'Piloto ...  88078.64  "
            ],
            "text/html": [
              "\n",
              "  <div id=\"df-a928ae89-c867-4103-aed1-98803994a440\">\n",
              "    <div class=\"colab-df-container\">\n",
              "      <div>\n",
              "<style scoped>\n",
              "    .dataframe tbody tr th:only-of-type {\n",
              "        vertical-align: middle;\n",
              "    }\n",
              "\n",
              "    .dataframe tbody tr th {\n",
              "        vertical-align: top;\n",
              "    }\n",
              "\n",
              "    .dataframe thead th {\n",
              "        text-align: right;\n",
              "    }\n",
              "</style>\n",
              "<table border=\"1\" class=\"dataframe\">\n",
              "  <thead>\n",
              "    <tr style=\"text-align: right;\">\n",
              "      <th></th>\n",
              "      <th>Motor</th>\n",
              "      <th>Ano</th>\n",
              "      <th>Quilometragem</th>\n",
              "      <th>Zero_km</th>\n",
              "      <th>Acessórios</th>\n",
              "      <th>Valor</th>\n",
              "    </tr>\n",
              "    <tr>\n",
              "      <th>Nome</th>\n",
              "      <th></th>\n",
              "      <th></th>\n",
              "      <th></th>\n",
              "      <th></th>\n",
              "      <th></th>\n",
              "      <th></th>\n",
              "    </tr>\n",
              "  </thead>\n",
              "  <tbody>\n",
              "    <tr>\n",
              "      <th>Jetta Variant</th>\n",
              "      <td>Motor 4.0 Turbo</td>\n",
              "      <td>2003</td>\n",
              "      <td>44410.0</td>\n",
              "      <td>False</td>\n",
              "      <td>['Rodas de liga', 'Travas elétricas', 'Piloto ...</td>\n",
              "      <td>88078.64</td>\n",
              "    </tr>\n",
              "  </tbody>\n",
              "</table>\n",
              "</div>\n",
              "      <button class=\"colab-df-convert\" onclick=\"convertToInteractive('df-a928ae89-c867-4103-aed1-98803994a440')\"\n",
              "              title=\"Convert this dataframe to an interactive table.\"\n",
              "              style=\"display:none;\">\n",
              "        \n",
              "  <svg xmlns=\"http://www.w3.org/2000/svg\" height=\"24px\"viewBox=\"0 0 24 24\"\n",
              "       width=\"24px\">\n",
              "    <path d=\"M0 0h24v24H0V0z\" fill=\"none\"/>\n",
              "    <path d=\"M18.56 5.44l.94 2.06.94-2.06 2.06-.94-2.06-.94-.94-2.06-.94 2.06-2.06.94zm-11 1L8.5 8.5l.94-2.06 2.06-.94-2.06-.94L8.5 2.5l-.94 2.06-2.06.94zm10 10l.94 2.06.94-2.06 2.06-.94-2.06-.94-.94-2.06-.94 2.06-2.06.94z\"/><path d=\"M17.41 7.96l-1.37-1.37c-.4-.4-.92-.59-1.43-.59-.52 0-1.04.2-1.43.59L10.3 9.45l-7.72 7.72c-.78.78-.78 2.05 0 2.83L4 21.41c.39.39.9.59 1.41.59.51 0 1.02-.2 1.41-.59l7.78-7.78 2.81-2.81c.8-.78.8-2.07 0-2.86zM5.41 20L4 18.59l7.72-7.72 1.47 1.35L5.41 20z\"/>\n",
              "  </svg>\n",
              "      </button>\n",
              "      \n",
              "  <style>\n",
              "    .colab-df-container {\n",
              "      display:flex;\n",
              "      flex-wrap:wrap;\n",
              "      gap: 12px;\n",
              "    }\n",
              "\n",
              "    .colab-df-convert {\n",
              "      background-color: #E8F0FE;\n",
              "      border: none;\n",
              "      border-radius: 50%;\n",
              "      cursor: pointer;\n",
              "      display: none;\n",
              "      fill: #1967D2;\n",
              "      height: 32px;\n",
              "      padding: 0 0 0 0;\n",
              "      width: 32px;\n",
              "    }\n",
              "\n",
              "    .colab-df-convert:hover {\n",
              "      background-color: #E2EBFA;\n",
              "      box-shadow: 0px 1px 2px rgba(60, 64, 67, 0.3), 0px 1px 3px 1px rgba(60, 64, 67, 0.15);\n",
              "      fill: #174EA6;\n",
              "    }\n",
              "\n",
              "    [theme=dark] .colab-df-convert {\n",
              "      background-color: #3B4455;\n",
              "      fill: #D2E3FC;\n",
              "    }\n",
              "\n",
              "    [theme=dark] .colab-df-convert:hover {\n",
              "      background-color: #434B5C;\n",
              "      box-shadow: 0px 1px 3px 1px rgba(0, 0, 0, 0.15);\n",
              "      filter: drop-shadow(0px 1px 2px rgba(0, 0, 0, 0.3));\n",
              "      fill: #FFFFFF;\n",
              "    }\n",
              "  </style>\n",
              "\n",
              "      <script>\n",
              "        const buttonEl =\n",
              "          document.querySelector('#df-a928ae89-c867-4103-aed1-98803994a440 button.colab-df-convert');\n",
              "        buttonEl.style.display =\n",
              "          google.colab.kernel.accessAllowed ? 'block' : 'none';\n",
              "\n",
              "        async function convertToInteractive(key) {\n",
              "          const element = document.querySelector('#df-a928ae89-c867-4103-aed1-98803994a440');\n",
              "          const dataTable =\n",
              "            await google.colab.kernel.invokeFunction('convertToInteractive',\n",
              "                                                     [key], {});\n",
              "          if (!dataTable) return;\n",
              "\n",
              "          const docLinkHtml = 'Like what you see? Visit the ' +\n",
              "            '<a target=\"_blank\" href=https://colab.research.google.com/notebooks/data_table.ipynb>data table notebook</a>'\n",
              "            + ' to learn more about interactive tables.';\n",
              "          element.innerHTML = '';\n",
              "          dataTable['output_type'] = 'display_data';\n",
              "          await google.colab.output.renderOutput(dataTable, element);\n",
              "          const docLink = document.createElement('div');\n",
              "          docLink.innerHTML = docLinkHtml;\n",
              "          element.appendChild(docLink);\n",
              "        }\n",
              "      </script>\n",
              "    </div>\n",
              "  </div>\n",
              "  "
            ]
          },
          "metadata": {},
          "execution_count": 85
        }
      ]
    },
    {
      "cell_type": "markdown",
      "metadata": {
        "id": "wD6CQawRwyiX"
      },
      "source": [
        "**Exemplo**: Calcular a idade média dos pacientes que tenham disfonia\n",
        "\n",
        "- Calcular a quilometragem média de cada carro"
      ]
    },
    {
      "cell_type": "markdown",
      "source": [
        "* Passo 1: Pegar a quilometragem atual que o carro possui e dividir pelo tempo que ele já rodou (diferença do ano atual e o ano de lançamento)\n",
        "\n",
        "Ex: Jetta Variant\n",
        "\n",
        "Quilometragem = 44410.0\n",
        "\n",
        "Ano = 2003\n",
        "\n",
        "Ano atual = 2019\n",
        "\n",
        "km_media = 44410.0/(2019-2003) = 2775.625\n",
        "\n",
        "Obs: Esse cálculo de km_media é feito por meio da iteração linha a linha, logo acima."
      ],
      "metadata": {
        "id": "JL4dSOjeyqEq"
      }
    },
    {
      "cell_type": "code",
      "source": [
        "dados2.query('Ano == 2019')"
      ],
      "metadata": {
        "id": "6qV2p5MT1vy2"
      },
      "execution_count": null,
      "outputs": []
    },
    {
      "cell_type": "code",
      "execution_count": null,
      "metadata": {
        "id": "jOfivsfXxX_P"
      },
      "outputs": [],
      "source": [
        "ano_atual=2019\n",
        "\n",
        "for id, row in dados2.iterrows():\n",
        "  anos_rodando = ano_atual - row['Ano']\n",
        "  if anos_rodando != 0:\n",
        "    dados2.loc[id, 'km_media'] = row['Quilometragem']/anos_rodando \n",
        "\n",
        "  else:\n",
        "    dados2.loc[id, 'km_media'] = 0\n",
        "\n",
        "\n",
        "dados2.head()"
      ]
    },
    {
      "cell_type": "markdown",
      "source": [
        "Obs: Como alguns carros tem ano 2019, isso geraria uma divisão por 0.\n",
        "Para tratar esse caso, foi necessário fazer um if-else.\n",
        "\n",
        "* **If:** Faz o cálculo normal da km_media linha a linha e cria uma nova coluna no DataFrame com esses valores.\n",
        "\n",
        "* **Else:** Atribui o resultado da divisão igual a 0 quando o resultado da divisão for igual a 0 (carros de ano 2019)."
      ],
      "metadata": {
        "id": "sYICFs833dSM"
      }
    },
    {
      "cell_type": "code",
      "execution_count": null,
      "metadata": {
        "id": "E1xqOp19vkqJ"
      },
      "outputs": [],
      "source": []
    },
    {
      "cell_type": "markdown",
      "metadata": {
        "id": "3s53IXHAycG6"
      },
      "source": [
        "**Existem outras formas de iterar**, pesquisar por .itertuples() e .items()"
      ]
    },
    {
      "cell_type": "markdown",
      "metadata": {
        "id": "Mx8XCXBB8ZuI"
      },
      "source": [
        "## **Tratamento de dados**"
      ]
    },
    {
      "cell_type": "code",
      "execution_count": null,
      "metadata": {
        "id": "dqExiIhi8dnK"
      },
      "outputs": [],
      "source": [
        "dados2.head()"
      ]
    },
    {
      "cell_type": "code",
      "execution_count": null,
      "metadata": {
        "id": "VwI2o4YF4jG5"
      },
      "outputs": [],
      "source": [
        "dados2.info()\n",
        "'''\n",
        "Quilometragem tem 197 infos nao-nulas, teria problema para modelos de machine learning\n",
        "'''"
      ]
    },
    {
      "cell_type": "code",
      "execution_count": null,
      "metadata": {
        "id": "ZV_96ENq4jXg"
      },
      "outputs": [],
      "source": [
        "sel = dados2['Quilometragem'].isna()"
      ]
    },
    {
      "cell_type": "code",
      "execution_count": null,
      "metadata": {
        "id": "rYVB00_q5KsW"
      },
      "outputs": [],
      "source": [
        "dados2[sel]"
      ]
    },
    {
      "cell_type": "code",
      "execution_count": null,
      "metadata": {
        "id": "E0VtjhJM5K9e"
      },
      "outputs": [],
      "source": [
        "dados2.fillna(0) #.fillna() é uma função que preenche todos os campos do dataframe que são NaN \n",
        "dados2.fillna(0, inplace = True)\n",
        "dados2.head()\n",
        "dados2[sel]"
      ]
    },
    {
      "cell_type": "markdown",
      "source": [
        "Obs: A função .fillna(0) retorna a pré-visualização de como os dados NaN serão preenchidos com 0.\n",
        "\n",
        "Já .fill() com o parâmetro inplace = True é a confirmação definitiva da alteração dados NaN em 0.0"
      ],
      "metadata": {
        "id": "FisjUhubFBoc"
      }
    },
    {
      "cell_type": "code",
      "execution_count": null,
      "metadata": {
        "id": "_DlQdexV5dYz"
      },
      "outputs": [],
      "source": [
        "#Ex2: Caso de exclusão dos dados NaN"
      ]
    },
    {
      "cell_type": "code",
      "execution_count": null,
      "metadata": {
        "id": "z_sYsFt-5oQo"
      },
      "outputs": [],
      "source": [
        "dados_tmp = pd.read_csv('db.csv', sep = ';')\n",
        "dados_tmp"
      ]
    },
    {
      "cell_type": "code",
      "execution_count": null,
      "metadata": {
        "id": "wcJmLDyY5sdF"
      },
      "outputs": [],
      "source": [
        "dados_tmp.dropna(subset=['Quilometragem']) #Pré-visualização\n",
        "dados_tmp.dropna(subset=['Quilometragem'], inplace=True) #Confirmação da exclusão\n",
        "dados_tmp"
      ]
    },
    {
      "cell_type": "code",
      "execution_count": null,
      "metadata": {
        "id": "zfOqqrdl51M4"
      },
      "outputs": [],
      "source": []
    },
    {
      "cell_type": "markdown",
      "metadata": {
        "id": "gu-wA9iZ6Lc-"
      },
      "source": [
        "**carregando dados originais**"
      ]
    },
    {
      "cell_type": "code",
      "execution_count": null,
      "metadata": {
        "id": "nVsm20lP6IbW",
        "colab": {
          "base_uri": "https://localhost:8080/",
          "height": 282
        },
        "outputId": "1b93ae60-afc1-45c1-cc58-e7a1bc0c7fc9"
      },
      "outputs": [
        {
          "output_type": "execute_result",
          "data": {
            "text/plain": [
              "<matplotlib.axes._subplots.AxesSubplot at 0x7f3153a7ddd0>"
            ]
          },
          "metadata": {},
          "execution_count": 7
        },
        {
          "output_type": "display_data",
          "data": {
            "text/plain": [
              "<Figure size 432x288 with 1 Axes>"
            ],
            "image/png": "[encoded data removed]"
          },
          "metadata": {
            "needs_background": "light"
          }
        }
      ],
      "source": [
        "dados_tmp['Ano'].hist()"
      ]
    },
    {
      "cell_type": "code",
      "execution_count": null,
      "metadata": {
        "id": "rVA0bnyA6Tw-",
        "colab": {
          "base_uri": "https://localhost:8080/",
          "height": 282
        },
        "outputId": "cfe9c030-6c37-4faf-874f-42afe8245f6d"
      },
      "outputs": [
        {
          "output_type": "execute_result",
          "data": {
            "text/plain": [
              "<matplotlib.axes._subplots.AxesSubplot at 0x7f0750646290>"
            ]
          },
          "metadata": {},
          "execution_count": 112
        },
        {
          "output_type": "display_data",
          "data": {
            "text/plain": [
              "<Figure size 432x288 with 1 Axes>"
            ],
            "image/png": "[encoded data removed]"
          },
          "metadata": {
            "needs_background": "light"
          }
        }
      ],
      "source": [
        "dados_tmp[['Ano']].boxplot()"
      ]
    },
    {
      "cell_type": "code",
      "execution_count": null,
      "metadata": {
        "id": "oCe8m8XT8CLl",
        "colab": {
          "base_uri": "https://localhost:8080/",
          "height": 323
        },
        "outputId": "41baf8de-8594-4a0c-e71b-e781c6d832e4"
      },
      "outputs": [
        {
          "output_type": "execute_result",
          "data": {
            "text/plain": [
              "<matplotlib.axes._subplots.AxesSubplot at 0x7f3153962750>"
            ]
          },
          "metadata": {},
          "execution_count": 8
        },
        {
          "output_type": "display_data",
          "data": {
            "text/plain": [
              "<Figure size 432x288 with 1 Axes>"
            ],
            "image/png": "[encoded data removed]"
          },
          "metadata": {
            "needs_background": "light"
          }
        }
      ],
      "source": [
        "dados_tmp[['Ano']].value_counts().plot.bar()"
      ]
    },
    {
      "cell_type": "code",
      "execution_count": null,
      "metadata": {
        "id": "kChZjU5M8TqZ"
      },
      "outputs": [],
      "source": [
        "dados_tmp[['Ano']].mean()"
      ]
    },
    {
      "cell_type": "code",
      "execution_count": null,
      "metadata": {
        "id": "uT5GTNZT8Wrw"
      },
      "outputs": [],
      "source": []
    },
    {
      "cell_type": "code",
      "execution_count": null,
      "metadata": {
        "id": "JUtt-Eaf8lsx"
      },
      "outputs": [],
      "source": []
    },
    {
      "cell_type": "code",
      "execution_count": null,
      "metadata": {
        "id": "xJEFkY6R8vkg"
      },
      "outputs": [],
      "source": []
    },
    {
      "cell_type": "code",
      "execution_count": null,
      "metadata": {
        "id": "wg9Qj3ry8cCy"
      },
      "outputs": [],
      "source": []
    }
  ],
  "metadata": {
    "colab": {
      "provenance": []
    },
    "kernelspec": {
      "display_name": "Python 3",
      "name": "python3"
    },
    "language_info": {
      "name": "python"
    }
  },
  "nbformat": 4,
  "nbformat_minor": 0
}